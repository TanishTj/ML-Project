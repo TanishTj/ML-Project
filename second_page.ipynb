{
 "cells": [
  {
   "cell_type": "code",
   "execution_count": 1,
   "id": "1cc3ec4f",
   "metadata": {},
   "outputs": [],
   "source": [
    "import numpy as np\n",
    "import cv2\n",
    "import matplotlib.pyplot as plt"
   ]
  },
  {
   "cell_type": "code",
   "execution_count": 2,
   "id": "d6bfd611",
   "metadata": {},
   "outputs": [],
   "source": [
    "with_mask=np.load('with_mask.npy')\n",
    "without_mask=np.load('without_mask.npy')"
   ]
  },
  {
   "cell_type": "code",
   "execution_count": 3,
   "id": "b8202ad6",
   "metadata": {},
   "outputs": [
    {
     "data": {
      "text/plain": [
       "(200, 50, 50, 3)"
      ]
     },
     "execution_count": 3,
     "metadata": {},
     "output_type": "execute_result"
    }
   ],
   "source": [
    "with_mask.shape"
   ]
  },
  {
   "cell_type": "code",
   "execution_count": 4,
   "id": "008de601",
   "metadata": {},
   "outputs": [
    {
     "data": {
      "text/plain": [
       "(200, 50, 50, 3)"
      ]
     },
     "execution_count": 4,
     "metadata": {},
     "output_type": "execute_result"
    }
   ],
   "source": [
    "without_mask.shape"
   ]
  },
  {
   "cell_type": "code",
   "execution_count": 5,
   "id": "265278d9",
   "metadata": {},
   "outputs": [
    {
     "data": {
      "text/plain": [
       "<matplotlib.image.AxesImage at 0x19c0095b220>"
      ]
     },
     "execution_count": 5,
     "metadata": {},
     "output_type": "execute_result"
    },
    {
     "data": {
      "image/png": "[encoded data removed]",
      "text/plain": [
       "<Figure size 432x288 with 1 Axes>"
      ]
     },
     "metadata": {
      "needs_background": "light"
     },
     "output_type": "display_data"
    }
   ],
   "source": [
    "plt.imshow(without_mask[0])"
   ]
  },
  {
   "cell_type": "code",
   "execution_count": 6,
   "id": "4766b01b",
   "metadata": {},
   "outputs": [
    {
     "data": {
      "text/plain": [
       "<matplotlib.image.AxesImage at 0x19c010f0190>"
      ]
     },
     "execution_count": 6,
     "metadata": {},
     "output_type": "execute_result"
    },
    {
     "data": {
      "image/png": "[encoded data removed]",
      "text/plain": [
       "<Figure size 432x288 with 1 Axes>"
      ]
     },
     "metadata": {
      "needs_background": "light"
     },
     "output_type": "display_data"
    }
   ],
   "source": [
    "plt.imshow(with_mask[0])"
   ]
  },
  {
   "cell_type": "code",
   "execution_count": 7,
   "id": "35c3befe",
   "metadata": {},
   "outputs": [],
   "source": [
    "with_mask=with_mask.reshape(200,50*50*3)\n",
    "without_mask=without_mask.reshape(200,50*50*3)"
   ]
  },
  {
   "cell_type": "code",
   "execution_count": 8,
   "id": "4b5cf37c",
   "metadata": {},
   "outputs": [],
   "source": [
    "X=np.r_[with_mask,without_mask]"
   ]
  },
  {
   "cell_type": "code",
   "execution_count": 9,
   "id": "a8049e0d",
   "metadata": {},
   "outputs": [
    {
     "data": {
      "text/plain": [
       "(400, 7500)"
      ]
     },
     "execution_count": 9,
     "metadata": {},
     "output_type": "execute_result"
    }
   ],
   "source": [
    "X.shape"
   ]
  },
  {
   "cell_type": "code",
   "execution_count": 10,
   "id": "5b7f5a30",
   "metadata": {},
   "outputs": [],
   "source": [
    "labels=np.zeros(X.shape[0])"
   ]
  },
  {
   "cell_type": "code",
   "execution_count": 11,
   "id": "f751707e",
   "metadata": {},
   "outputs": [],
   "source": [
    "labels[200:]=1.0"
   ]
  },
  {
   "cell_type": "code",
   "execution_count": 12,
   "id": "734f4a7c",
   "metadata": {},
   "outputs": [
    {
     "data": {
      "text/plain": [
       "(400,)"
      ]
     },
     "execution_count": 12,
     "metadata": {},
     "output_type": "execute_result"
    }
   ],
   "source": [
    "labels.shape"
   ]
  },
  {
   "cell_type": "code",
   "execution_count": 13,
   "id": "04de9ed5",
   "metadata": {},
   "outputs": [],
   "source": [
    "names={0:'Mask',1:'No mask'}"
   ]
  },
  {
   "cell_type": "code",
   "execution_count": 14,
   "id": "d36d5a18",
   "metadata": {},
   "outputs": [
    {
     "data": {
      "text/plain": [
       "0.0"
      ]
     },
     "execution_count": 14,
     "metadata": {},
     "output_type": "execute_result"
    }
   ],
   "source": [
    "labels[0]"
   ]
  },
  {
   "cell_type": "code",
   "execution_count": 15,
   "id": "53ade053",
   "metadata": {},
   "outputs": [
    {
     "data": {
      "text/plain": [
       "1.0"
      ]
     },
     "execution_count": 15,
     "metadata": {},
     "output_type": "execute_result"
    }
   ],
   "source": [
    "labels[201]"
   ]
  },
  {
   "cell_type": "code",
   "execution_count": 16,
   "id": "d04bc534",
   "metadata": {},
   "outputs": [],
   "source": [
    "from sklearn.svm import SVC\n",
    "from sklearn.metrics import accuracy_score\n",
    "from sklearn.model_selection import train_test_split\n",
    "from sklearn.decomposition import PCA"
   ]
  },
  {
   "cell_type": "code",
   "execution_count": 17,
   "id": "f30646a6",
   "metadata": {},
   "outputs": [],
   "source": [
    "x_train,x_test,y_train,y_test=train_test_split(X,labels,test_size=0.25)"
   ]
  },
  {
   "cell_type": "code",
   "execution_count": 18,
   "id": "91cc8597",
   "metadata": {},
   "outputs": [
    {
     "data": {
      "text/plain": [
       "(300, 7500)"
      ]
     },
     "execution_count": 18,
     "metadata": {},
     "output_type": "execute_result"
    }
   ],
   "source": [
    "x_train.shape"
   ]
  },
  {
   "cell_type": "code",
   "execution_count": 19,
   "id": "77463330",
   "metadata": {},
   "outputs": [],
   "source": [
    "pca=PCA(n_components=3)\n",
    "x_train=pca.fit_transform(x_train)"
   ]
  },
  {
   "cell_type": "code",
   "execution_count": 20,
   "id": "85ef2baf",
   "metadata": {},
   "outputs": [
    {
     "data": {
      "text/plain": [
       "array([-1085.96508869,  -169.59452342,   -25.31143994])"
      ]
     },
     "execution_count": 20,
     "metadata": {},
     "output_type": "execute_result"
    }
   ],
   "source": [
    "x_train[0]"
   ]
  },
  {
   "cell_type": "code",
   "execution_count": 21,
   "id": "316cc4a9",
   "metadata": {},
   "outputs": [
    {
     "data": {
      "text/plain": [
       "(300, 3)"
      ]
     },
     "execution_count": 21,
     "metadata": {},
     "output_type": "execute_result"
    }
   ],
   "source": [
    "x_train.shape"
   ]
  },
  {
   "cell_type": "code",
   "execution_count": 22,
   "id": "cc94059d",
   "metadata": {},
   "outputs": [
    {
     "data": {
      "text/plain": [
       "SVC()"
      ]
     },
     "execution_count": 22,
     "metadata": {},
     "output_type": "execute_result"
    }
   ],
   "source": [
    "svm=SVC()\n",
    "svm.fit(x_train,y_train)"
   ]
  },
  {
   "cell_type": "code",
   "execution_count": 23,
   "id": "79106767",
   "metadata": {},
   "outputs": [],
   "source": [
    "x_test=pca.transform(x_test)\n",
    "y_pred=svm.predict(x_test)"
   ]
  },
  {
   "cell_type": "code",
   "execution_count": 24,
   "id": "2339041e",
   "metadata": {},
   "outputs": [
    {
     "data": {
      "text/plain": [
       "1.0"
      ]
     },
     "execution_count": 24,
     "metadata": {},
     "output_type": "execute_result"
    }
   ],
   "source": [
    "accuracy_score(y_test,y_pred)"
   ]
  },
  {
   "cell_type": "code",
   "execution_count": 25,
   "id": "4a9623db",
   "metadata": {},
   "outputs": [],
   "source": [
    "haar_data=cv2.CascadeClassifier(r'C:\\Users\\Lenovo\\Downloads\\data.xml')"
   ]
  },
  {
   "cell_type": "code",
   "execution_count": null,
   "id": "eb194702",
   "metadata": {},
   "outputs": [
    {
     "name": "stdout",
     "output_type": "stream",
     "text": [
      "No mask\n",
      "No mask\n",
      "No mask\n",
      "No mask\n",
      "No mask\n",
      "No mask\n",
      "No mask\n",
      "No mask\n",
      "Mask\n",
      "No mask\n",
      "Mask\n",
      "No mask\n",
      "Mask\n",
      "No mask\n",
      "No mask\n",
      "No mask\n",
      "No mask\n",
      "No mask\n",
      "No mask\n",
      "No mask\n",
      "No mask\n",
      "No mask\n",
      "No mask\n",
      "No mask\n",
      "No mask\n",
      "No mask\n",
      "No mask\n",
      "No mask\n",
      "No mask\n",
      "No mask\n",
      "No mask\n",
      "No mask\n",
      "No mask\n",
      "No mask\n",
      "Mask\n",
      "Mask\n",
      "No mask\n",
      "No mask\n",
      "No mask\n",
      "No mask\n",
      "No mask\n",
      "No mask\n",
      "No mask\n",
      "No mask\n",
      "No mask\n",
      "No mask\n",
      "No mask\n",
      "No mask\n",
      "No mask\n",
      "Mask\n",
      "Mask\n",
      "Mask\n",
      "Mask\n",
      "Mask\n",
      "Mask\n",
      "Mask\n",
      "Mask\n",
      "No mask\n",
      "No mask\n",
      "No mask\n",
      "No mask\n",
      "No mask\n",
      "No mask\n",
      "No mask\n",
      "No mask\n",
      "No mask\n",
      "No mask\n",
      "No mask\n",
      "No mask\n",
      "No mask\n",
      "No mask\n",
      "No mask\n",
      "No mask\n",
      "No mask\n",
      "No mask\n",
      "No mask\n",
      "No mask\n",
      "No mask\n",
      "No mask\n",
      "No mask\n",
      "No mask\n",
      "No mask\n",
      "No mask\n",
      "No mask\n",
      "No mask\n",
      "No mask\n",
      "No mask\n",
      "No mask\n",
      "No mask\n",
      "No mask\n",
      "No mask\n",
      "No mask\n",
      "No mask\n",
      "No mask\n",
      "No mask\n",
      "No mask\n",
      "No mask\n",
      "No mask\n",
      "No mask\n",
      "No mask\n",
      "No mask\n",
      "No mask\n",
      "No mask\n",
      "No mask\n",
      "No mask\n",
      "No mask\n",
      "No mask\n",
      "No mask\n",
      "No mask\n",
      "No mask\n",
      "No mask\n",
      "No mask\n",
      "No mask\n",
      "No mask\n",
      "No mask\n",
      "No mask\n",
      "No mask\n",
      "No mask\n",
      "No mask\n",
      "No mask\n",
      "No mask\n",
      "No mask\n",
      "No mask\n",
      "No mask\n",
      "No mask\n",
      "No mask\n",
      "No mask\n",
      "No mask\n",
      "No mask\n",
      "No mask\n",
      "No mask\n",
      "No mask\n",
      "No mask\n",
      "No mask\n",
      "No mask\n",
      "No mask\n",
      "No mask\n",
      "No mask\n",
      "No mask\n",
      "No mask\n",
      "No mask\n",
      "No mask\n",
      "No mask\n",
      "No mask\n",
      "No mask\n",
      "No mask\n",
      "No mask\n",
      "No mask\n",
      "No mask\n",
      "No mask\n",
      "No mask\n",
      "No mask\n",
      "No mask\n",
      "No mask\n",
      "No mask\n",
      "No mask\n",
      "No mask\n",
      "No mask\n",
      "No mask\n",
      "No mask\n",
      "No mask\n",
      "No mask\n",
      "No mask\n",
      "No mask\n",
      "No mask\n",
      "No mask\n",
      "No mask\n",
      "No mask\n",
      "No mask\n",
      "No mask\n",
      "No mask\n",
      "No mask\n",
      "No mask\n",
      "No mask\n",
      "No mask\n",
      "No mask\n",
      "No mask\n",
      "No mask\n",
      "No mask\n",
      "No mask\n",
      "No mask\n",
      "No mask\n",
      "No mask\n",
      "No mask\n",
      "No mask\n",
      "No mask\n",
      "No mask\n",
      "No mask\n",
      "No mask\n",
      "No mask\n",
      "No mask\n",
      "No mask\n",
      "No mask\n",
      "No mask\n",
      "No mask\n",
      "No mask\n",
      "No mask\n",
      "No mask\n",
      "No mask\n",
      "No mask\n",
      "No mask\n",
      "No mask\n",
      "No mask\n",
      "No mask\n",
      "No mask\n",
      "No mask\n",
      "No mask\n",
      "No mask\n",
      "No mask\n",
      "No mask\n",
      "No mask\n",
      "No mask\n",
      "No mask\n",
      "No mask\n",
      "No mask\n",
      "No mask\n",
      "No mask\n",
      "No mask\n",
      "No mask\n",
      "No mask\n",
      "No mask\n",
      "No mask\n",
      "No mask\n",
      "No mask\n",
      "No mask\n",
      "No mask\n",
      "No mask\n",
      "No mask\n",
      "No mask\n",
      "No mask\n",
      "No mask\n",
      "No mask\n",
      "No mask\n",
      "No mask\n",
      "No mask\n",
      "No mask\n",
      "No mask\n",
      "No mask\n",
      "No mask\n",
      "No mask\n",
      "No mask\n",
      "No mask\n",
      "No mask\n",
      "No mask\n",
      "No mask\n",
      "No mask\n",
      "No mask\n",
      "No mask\n",
      "No mask\n",
      "No mask\n",
      "No mask\n",
      "No mask\n",
      "No mask\n",
      "No mask\n",
      "No mask\n",
      "No mask\n",
      "No mask\n",
      "No mask\n",
      "No mask\n",
      "No mask\n",
      "No mask\n",
      "No mask\n",
      "No mask\n",
      "No mask\n",
      "No mask\n",
      "No mask\n",
      "No mask\n",
      "No mask\n",
      "No mask\n",
      "No mask\n",
      "No mask\n",
      "No mask\n",
      "No mask\n",
      "No mask\n",
      "No mask\n",
      "No mask\n",
      "No mask\n",
      "No mask\n",
      "No mask\n",
      "No mask\n",
      "No mask\n",
      "No mask\n",
      "No mask\n",
      "No mask\n",
      "No mask\n",
      "No mask\n",
      "No mask\n",
      "No mask\n",
      "No mask\n",
      "No mask\n",
      "No mask\n",
      "No mask\n",
      "No mask\n",
      "No mask\n",
      "No mask\n",
      "No mask\n",
      "No mask\n",
      "No mask\n",
      "No mask\n",
      "No mask\n",
      "No mask\n",
      "No mask\n",
      "No mask\n",
      "No mask\n",
      "No mask\n",
      "No mask\n",
      "No mask\n",
      "No mask\n",
      "No mask\n",
      "No mask\n",
      "No mask\n",
      "No mask\n",
      "No mask\n",
      "No mask\n",
      "No mask\n",
      "No mask\n",
      "No mask\n",
      "No mask\n",
      "No mask\n",
      "No mask\n",
      "No mask\n",
      "No mask\n",
      "No mask\n",
      "No mask\n",
      "No mask\n",
      "No mask\n",
      "No mask\n",
      "No mask\n",
      "No mask\n",
      "No mask\n",
      "No mask\n",
      "No mask\n",
      "No mask\n",
      "No mask\n",
      "No mask\n",
      "No mask\n",
      "No mask\n",
      "No mask\n",
      "No mask\n",
      "No mask\n",
      "No mask\n",
      "No mask\n",
      "No mask\n",
      "No mask\n",
      "No mask\n",
      "No mask\n",
      "No mask\n",
      "No mask\n",
      "No mask\n",
      "No mask\n",
      "No mask\n",
      "No mask\n",
      "No mask\n",
      "No mask\n",
      "No mask\n",
      "No mask\n",
      "No mask\n",
      "No mask\n",
      "No mask\n",
      "No mask\n",
      "No mask\n",
      "No mask\n",
      "No mask\n",
      "No mask\n",
      "No mask\n",
      "No mask\n",
      "No mask\n",
      "No mask\n",
      "No mask\n",
      "No mask\n",
      "No mask\n",
      "No mask\n",
      "No mask\n",
      "No mask\n",
      "No mask\n",
      "No mask\n",
      "No mask\n",
      "No mask\n",
      "No mask\n",
      "No mask\n",
      "No mask\n",
      "No mask\n",
      "No mask\n",
      "No mask\n",
      "No mask\n",
      "No mask\n",
      "No mask\n",
      "No mask\n",
      "No mask\n",
      "No mask\n",
      "No mask\n",
      "No mask\n",
      "No mask\n",
      "No mask\n",
      "No mask\n",
      "No mask\n",
      "No mask\n",
      "No mask\n",
      "No mask\n",
      "No mask\n",
      "No mask\n",
      "No mask\n",
      "No mask\n",
      "No mask\n",
      "No mask\n",
      "No mask\n",
      "No mask\n",
      "No mask\n",
      "No mask\n",
      "No mask\n",
      "No mask\n",
      "No mask\n",
      "No mask\n",
      "No mask\n",
      "No mask\n",
      "No mask\n",
      "No mask\n",
      "No mask\n",
      "No mask\n",
      "No mask\n",
      "No mask\n",
      "No mask\n",
      "No mask\n",
      "No mask\n",
      "No mask\n",
      "No mask\n",
      "No mask\n",
      "No mask\n",
      "No mask\n",
      "No mask\n",
      "No mask\n",
      "No mask\n",
      "No mask\n",
      "No mask\n",
      "No mask\n",
      "No mask\n",
      "No mask\n",
      "No mask\n",
      "No mask\n",
      "No mask\n",
      "No mask\n",
      "No mask\n",
      "No mask\n",
      "No mask\n",
      "No mask\n",
      "No mask\n",
      "No mask\n",
      "No mask\n",
      "No mask\n",
      "No mask\n",
      "No mask\n",
      "No mask\n",
      "No mask\n",
      "No mask\n",
      "No mask\n",
      "No mask\n",
      "No mask\n",
      "No mask\n",
      "No mask\n",
      "No mask\n",
      "No mask\n",
      "No mask\n",
      "No mask\n",
      "No mask\n",
      "No mask\n",
      "No mask\n",
      "No mask\n",
      "No mask\n",
      "No mask\n",
      "No mask\n",
      "No mask\n",
      "No mask\n",
      "No mask\n",
      "No mask\n",
      "No mask\n",
      "No mask\n",
      "No mask\n",
      "No mask\n",
      "Mask\n",
      "Mask\n",
      "No mask\n",
      "Mask\n",
      "Mask\n",
      "No mask\n",
      "No mask\n",
      "No mask\n",
      "No mask\n",
      "No mask\n",
      "No mask\n",
      "No mask\n",
      "No mask\n",
      "No mask\n",
      "No mask\n",
      "No mask\n",
      "No mask\n",
      "No mask\n",
      "No mask\n",
      "No mask\n",
      "No mask\n",
      "No mask\n",
      "No mask\n",
      "No mask\n",
      "No mask\n",
      "No mask\n",
      "No mask\n",
      "No mask\n",
      "No mask\n",
      "No mask\n",
      "No mask\n",
      "No mask\n",
      "No mask\n",
      "No mask\n",
      "No mask\n",
      "No mask\n",
      "No mask\n",
      "No mask\n",
      "No mask\n",
      "No mask\n",
      "No mask\n",
      "No mask\n",
      "No mask\n",
      "No mask\n",
      "No mask\n",
      "No mask\n",
      "No mask\n",
      "No mask\n",
      "No mask\n",
      "No mask\n",
      "No mask\n",
      "No mask\n",
      "No mask\n",
      "No mask\n",
      "No mask\n",
      "No mask\n",
      "No mask\n",
      "No mask\n",
      "No mask\n",
      "No mask\n",
      "No mask\n",
      "No mask\n",
      "No mask\n",
      "No mask\n",
      "No mask\n",
      "No mask\n",
      "No mask\n",
      "No mask\n",
      "No mask\n",
      "No mask\n",
      "No mask\n",
      "No mask\n",
      "Mask\n",
      "No mask\n",
      "No mask\n",
      "No mask\n",
      "No mask\n",
      "No mask\n",
      "No mask\n",
      "No mask\n",
      "No mask\n",
      "No mask\n",
      "Mask\n",
      "No mask\n",
      "Mask\n",
      "Mask\n",
      "No mask\n",
      "No mask\n",
      "No mask\n",
      "No mask\n",
      "No mask\n",
      "No mask\n",
      "No mask\n",
      "No mask\n",
      "No mask\n",
      "No mask\n",
      "No mask\n",
      "No mask\n",
      "No mask\n",
      "No mask\n",
      "No mask\n",
      "No mask\n",
      "No mask\n",
      "No mask\n",
      "No mask\n",
      "No mask\n",
      "No mask\n",
      "No mask\n",
      "No mask\n",
      "No mask\n",
      "No mask\n",
      "No mask\n",
      "No mask\n",
      "No mask\n",
      "No mask\n",
      "No mask\n",
      "No mask\n",
      "No mask\n",
      "No mask\n",
      "No mask\n",
      "No mask\n",
      "No mask\n",
      "No mask\n",
      "No mask\n",
      "No mask\n",
      "No mask\n",
      "No mask\n",
      "No mask\n",
      "No mask\n",
      "No mask\n",
      "No mask\n",
      "No mask\n",
      "No mask\n",
      "No mask\n",
      "No mask\n",
      "No mask\n",
      "No mask\n",
      "No mask\n",
      "Mask\n",
      "Mask\n",
      "Mask\n",
      "Mask\n",
      "Mask\n",
      "Mask\n",
      "Mask\n",
      "Mask\n",
      "Mask\n",
      "Mask\n",
      "Mask\n",
      "Mask\n",
      "Mask\n",
      "Mask\n",
      "Mask\n",
      "Mask\n",
      "Mask\n",
      "Mask\n",
      "Mask\n",
      "Mask\n",
      "Mask\n",
      "Mask\n",
      "Mask\n",
      "Mask\n",
      "Mask\n",
      "Mask\n",
      "Mask\n",
      "Mask\n",
      "Mask\n",
      "Mask\n",
      "Mask\n",
      "Mask\n",
      "Mask"
     ]
    }
   ],
   "source": [
    "capture =cv2.VideoCapture(0)\n",
    "data =[]\n",
    "font =cv2.FONT_HERSHEY_COMPLEX\n",
    "while True:\n",
    "    flag,img=capture. read( )\n",
    "    if flag:\n",
    "        faces = haar_data.detectMultiScale(img)\n",
    "        for x,y,w,h in faces:\n",
    "            cv2.rectangle(img, (x,y), (x+w, y+h), (255,0,255),4)\n",
    "#             face = img[y:y+h,x:x+w,:]\n",
    "            face = img[y:y+h, x:x+w, : ]\n",
    "            face = cv2.resize(face, (50,50))\n",
    "            face = face.reshape(1,-1)\n",
    "            face=pca.transform(face)\n",
    "            pred = svm.predict(face)[0]\n",
    "            n = names[int(pred)]\n",
    "            cv2.putText(img, n, (x,y), font, 1, (244,250,250),2)\n",
    "            print(n)\n",
    "        cv2 . imshow( 'result' , img)\n",
    "        #27 - ASCZZ o Fscape\n",
    "        if cv2.waitKey(2) == 27:\n",
    "            break\n",
    "\n",
    "capture. release( )\n",
    "cv2.destroyAllWindows( )\n",
    "\n"
   ]
  },
  {
   "cell_type": "code",
   "execution_count": null,
   "id": "cc78abd0",
   "metadata": {},
   "outputs": [],
   "source": []
  }
 ],
 "metadata": {
  "kernelspec": {
   "display_name": "Python 3 (ipykernel)",
   "language": "python",
   "name": "python3"
  },
  "language_info": {
   "codemirror_mode": {
    "name": "ipython",
    "version": 3
   },
   "file_extension": ".py",
   "mimetype": "text/x-python",
   "name": "python",
   "nbconvert_exporter": "python",
   "pygments_lexer": "ipython3",
   "version": "3.9.7"
  }
 },
 "nbformat": 4,
 "nbformat_minor": 5
}
