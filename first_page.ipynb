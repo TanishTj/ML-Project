{
 "cells": [
  {
   "cell_type": "code",
   "execution_count": 1,
   "id": "dc591d37",
   "metadata": {},
   "outputs": [],
   "source": [
    "import cv2\n",
    "import numpy as np\n",
    "import matplotlib.pyplot as plt"
   ]
  },
  {
   "cell_type": "code",
   "execution_count": 2,
   "id": "b2ff5093",
   "metadata": {
    "scrolled": true
   },
   "outputs": [
    {
     "data": {
      "text/plain": [
       "(600, 600, 3)"
      ]
     },
     "execution_count": 2,
     "metadata": {},
     "output_type": "execute_result"
    }
   ],
   "source": [
    "img=cv2.imread(r'C:\\Users\\Lenovo\\OneDrive\\Desktop\\depositphotos_59958935-stock-photo-multi-ethnic-people-posing.jpg')\n",
    "#cv2.imshow('Image',img)\n",
    "img.shape"
   ]
  },
  {
   "cell_type": "code",
   "execution_count": null,
   "id": "3803b36c",
   "metadata": {},
   "outputs": [],
   "source": [
    "while True:\n",
    "   cv2.imshow('result',img)\n",
    "if cv2.waitKey (2) == 27: break\n",
    "cv2.destroyAllWindows()"
   ]
  },
  {
   "cell_type": "code",
   "execution_count": null,
   "id": "d138b137",
   "metadata": {},
   "outputs": [],
   "source": [
    "haar_data=cv2.CascadeClassifier(r'C:\\Users\\Lenovo\\Downloads\\data.xml')\n",
    "haar_data.detectMultiScale(img)\n",
    "faces=haar_data.detectMultiScale (img) \n",
    "print(faces)\n",
    "for x,y,w,h in faces: \n",
    "    cv2.rectangle(img, (x,y), (x+w, y+h), (255,0, 255), 4) \n",
    "while True:\n",
    "   cv2.imshow('result',img)\n",
    "   if cv2.waitKey (2) == 27: break\n",
    "cv2.destroyAllWindows()"
   ]
  },
  {
   "cell_type": "code",
   "execution_count": null,
   "id": "cccd6210",
   "metadata": {},
   "outputs": [],
   "source": [
    "capture = cv2.VideoCapture (0)  \n",
    "data= [] \n",
    "while True:\n",
    "    flag, img = capture.read() \n",
    "    print(flag)\n",
    "    if flag: \n",
    "          faces=haar_data.detectMultiScale (img) \n",
    "          for x,y,w,h in faces: \n",
    "               cv2.rectangle(img, (x,y), (x+w, y+h), (255,0, 255), 4) \n",
    "               face=img [y:y+h, x:x+w, :]\n",
    "               face = cv2.resize(face, (50, 50)) \n",
    "               print (len (data))\n",
    "               if len(data) < 500: \n",
    "                  data.append(face) \n",
    "          cv2.imshow('result',img) \n",
    "          if cv2.waitKey (10) == 27 or len(data) >= 500: \n",
    "               break\n",
    "capture.release()\n",
    "cv2.destroyAllWindows() "
   ]
  },
  {
   "cell_type": "code",
   "execution_count": 13,
   "id": "5a3afedf",
   "metadata": {},
   "outputs": [],
   "source": [
    "np.save('without_mask.npy',data)\n"
   ]
  },
  {
   "cell_type": "code",
   "execution_count": 16,
   "id": "63e012e6",
   "metadata": {},
   "outputs": [],
   "source": [
    "np.save('with_mask.npy',data)"
   ]
  },
  {
   "cell_type": "code",
   "execution_count": 15,
   "id": "ea6a888e",
   "metadata": {},
   "outputs": [
    {
     "data": {
      "text/plain": [
       "<matplotlib.image.AxesImage at 0x2db87a77340>"
      ]
     },
     "execution_count": 15,
     "metadata": {},
     "output_type": "execute_result"
    },
    {
     "data": {
      "image/png": "[encoded data removed]",
      "text/plain": [
       "<Figure size 432x288 with 1 Axes>"
      ]
     },
     "metadata": {
      "needs_background": "light"
     },
     "output_type": "display_data"
    }
   ],
   "source": [
    "\n",
    "plt.imshow(data[2])"
   ]
  },
  {
   "cell_type": "code",
   "execution_count": null,
   "id": "c038d0fb",
   "metadata": {},
   "outputs": [],
   "source": []
  }
 ],
 "metadata": {
  "kernelspec": {
   "display_name": "Python 3 (ipykernel)",
   "language": "python",
   "name": "python3"
  },
  "language_info": {
   "codemirror_mode": {
    "name": "ipython",
    "version": 3
   },
   "file_extension": ".py",
   "mimetype": "text/x-python",
   "name": "python",
   "nbconvert_exporter": "python",
   "pygments_lexer": "ipython3",
   "version": "3.9.7"
  }
 },
 "nbformat": 4,
 "nbformat_minor": 5
}
